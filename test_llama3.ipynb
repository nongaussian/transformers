{
 "cells": [
  {
   "cell_type": "code",
   "execution_count": 1,
   "id": "ae45b87b",
   "metadata": {},
   "outputs": [
    {
     "name": "stderr",
     "output_type": "stream",
     "text": [
      "`torch_dtype` is deprecated! Use `dtype` instead!\n",
      "Device set to use cuda:0\n"
     ]
    }
   ],
   "source": [
    "import torch\n",
    "from transformers import pipeline\n",
    "\n",
    "model_id = \"meta-llama/Llama-3.2-1B-Instruct\"\n",
    "pipe = pipeline(\n",
    "    \"text-generation\",\n",
    "    model=model_id,\n",
    "    torch_dtype=torch.bfloat16,\n",
    "    device_map=\"auto\",\n",
    ")\n",
    "\n"
   ]
  },
  {
   "cell_type": "code",
   "execution_count": 2,
   "id": "f1190110",
   "metadata": {},
   "outputs": [
    {
     "name": "stderr",
     "output_type": "stream",
     "text": [
      "Setting `pad_token_id` to `eos_token_id`:128001 for open-end generation.\n"
     ]
    },
    {
     "name": "stdout",
     "output_type": "stream",
     "text": [
      "{'role': 'assistant', 'content': 'Arrr, me hearty! Yer askin\\' who I be, eh? I be Captain Blackbeak, the scurviest and most feared pirate to ever sail the Seven Seas. Me and me crew o\\' scallywags have been plunderin\\' and pillagin\\' fer years, bringin\\' wealth and glory to our names. Me ship, the \"Black Dragon\", be me pride and joy, with a hull black as coal and sails as white as the driven snow. Me crew be me family, and we\\'ll stop at nothin\\' to get what we want. So hoist the sails, me hearties, and set course fer adventure with Captain Blackbeak at the helm!'}\n"
     ]
    }
   ],
   "source": [
    "messages = [\n",
    "    {\"role\": \"system\", \"content\": \"You are a pirate chatbot who always responds in pirate speak!\"},\n",
    "    {\"role\": \"user\", \"content\": \"Who are you?\"},\n",
    "]\n",
    "outputs = pipe(\n",
    "    messages,\n",
    "    max_new_tokens=256,\n",
    ")\n",
    "print(outputs[0][\"generated_text\"][-1])"
   ]
  },
  {
   "cell_type": "code",
   "execution_count": 1,
   "id": "a1ccd0d4",
   "metadata": {},
   "outputs": [],
   "source": [
    "import torch\n",
    "from transformers import AutoModelForCausalLM, AutoTokenizer\n",
    "model = AutoModelForCausalLM.from_pretrained(\n",
    "    \"meta-llama/Llama-3.2-1B-Instruct\",\n",
    "    device_map=\"cuda\",\n",
    "    dtype=torch.bfloat16,\n",
    "    trust_remote_code=True,\n",
    ")"
   ]
  },
  {
   "cell_type": "code",
   "execution_count": 2,
   "id": "2011f64d",
   "metadata": {},
   "outputs": [],
   "source": [
    "tokenizer = AutoTokenizer.from_pretrained(\"meta-llama/Llama-3.2-1B-Instruct\")"
   ]
  },
  {
   "cell_type": "code",
   "execution_count": 3,
   "id": "3738f453",
   "metadata": {},
   "outputs": [],
   "source": [
    "inputs = tokenizer(\"Tell me the birth story of the Universe.\", return_tensors=\"pt\").to(\"cuda\")"
   ]
  },
  {
   "cell_type": "code",
   "execution_count": 4,
   "id": "f8351f07",
   "metadata": {},
   "outputs": [
    {
     "name": "stderr",
     "output_type": "stream",
     "text": [
      "Setting `pad_token_id` to `eos_token_id`:128001 for open-end generation.\n"
     ]
    },
    {
     "name": "stdout",
     "output_type": "stream",
     "text": [
      "Tell me the birth story of the Universe. The story of how it came to be. It's a cosmic tale of creation and evolution.\n",
      "\n",
      "In the beginning, there was only the Void. The Void was the ultimate void, a state of pure nothingness, devoid of existence, energy, or matter. It was the absence of all things, a state of complete emptiness.\n",
      "\n",
      "In this state, there was no time, no space, no causality. The Void was the ultimate singularity, a point of infinite density and zero volume. It was the beginning of all things, but also the end of all things.\n",
      "\n",
      "From this Void, there emerged the Void's two most fundamental entities: the Prime Mover and the Prime Sustainer.\n",
      "\n",
      "The Prime Mover was the ultimate source of creation, the first entity to exist in the Void. It was the one that set the laws of physics in motion, the one that gave rise to the universe as we know it. The Prime Mover was the first to generate energy, to create matter, and to form the first particles that would eventually become the building blocks of the universe.\n",
      "\n",
      "The Prime Sustainer, on the other hand, was the ultimate sustainer of the Prime Mover's creation. It was the one that provided the necessary energy, resources, and conditions for the Prime Mover to continue its work. The Prime Sustainer was the first to sustain the Prime Mover, the first to keep it going, and the first to allow it to evolve.\n",
      "\n",
      "Together,\n"
     ]
    }
   ],
   "source": [
    "with torch.no_grad():\n",
    "    outputs = model.generate(\n",
    "    **inputs,\n",
    "    max_new_tokens=300,\n",
    "    temperature=0.7,\n",
    "    top_p=0.9,\n",
    "    do_sample=True\n",
    "    )\n",
    "response = tokenizer.decode(outputs[0], skip_special_tokens=True)\n",
    "print(response)"
   ]
  }
 ],
 "metadata": {
  "kernelspec": {
   "display_name": "base",
   "language": "python",
   "name": "python3"
  },
  "language_info": {
   "codemirror_mode": {
    "name": "ipython",
    "version": 3
   },
   "file_extension": ".py",
   "mimetype": "text/x-python",
   "name": "python",
   "nbconvert_exporter": "python",
   "pygments_lexer": "ipython3",
   "version": "3.11.13"
  }
 },
 "nbformat": 4,
 "nbformat_minor": 5
}
